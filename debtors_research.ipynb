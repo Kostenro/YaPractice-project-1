{
 "cells": [
  {
   "cell_type": "markdown",
   "id": "9a57677d",
   "metadata": {},
   "source": [
    "# Исследование надёжности заёмщиков\n",
    "\n",
    "Заказчик — кредитный отдел банка. <br/>\n",
    "**Задача:** <br/>   **разобраться влияет ли семейное положение и количество детей клиента на факт погашения кредита в срок.**<br/>   Входные данные от банка — статистика о платёжеспособности клиентов. <br/>\n",
    "**Вопросы:** <br/> \n",
    "Зависимость возврата кредита в срок от:<br/>\n",
    "**наличия детей  \n",
    "семейного положения  \n",
    "уровня дохода  \n",
    "целей кредита**\n",
    "\n",
    "Результаты исследования будут \n",
    "учтены при построении модели **кредитного скоринга** — специальной системы, которая оценивает способность потенциального заёмщика вернуть кредит банку.\n",
    "### Описание данных\n",
    "**children** — количество детей в семье  \n",
    "**days_employed** — общий трудовой стаж в днях  \n",
    "**dob_years** — возраст клиента в годах  \n",
    "**education** — уровень образования клиента  \n",
    "**education_id** — идентификатор уровня образования  \n",
    "**family_status** — семейное положение  \n",
    "**family_status_id** — идентификатор семейного положения  \n",
    "**gender** — пол клиента  \n",
    "**income_type** — тип занятости  \n",
    "**debt** — имел ли задолженность по возврату кредитов  \n",
    "**total_income** — ежемесячный доход  \n",
    "**purpose** — цель получения кредита  "
   ]
  },
  {
   "cell_type": "markdown",
   "id": "3f6c7dcc",
   "metadata": {},
   "source": [
    "### Шаг 1. Прочитаем данные, импортируем библиотеки, изучим общую информацию. "
   ]
  },
  {
   "cell_type": "code",
   "execution_count": 3,
   "id": "0b169e1a",
   "metadata": {},
   "outputs": [],
   "source": [
    "import pandas as pd\n",
    "#from pymystem3 import Mystem\n",
    "#from nltk.stem import SnowballStemmer\n",
    "#from collections import Counter\n",
    "import numpy as np\n",
    "import math as mth"
   ]
  },
  {
   "cell_type": "code",
   "execution_count": 4,
   "id": "f92b4730",
   "metadata": {},
   "outputs": [],
   "source": [
    "debtors = pd.read_csv('/data.csv')\n",
    "debtors.head(20) "
   ]
  },
  {
   "cell_type": "code",
   "execution_count": null,
   "id": "e04565b3",
   "metadata": {},
   "outputs": [],
   "source": [
    "debtors.tail(20)"
   ]
  },
  {
   "cell_type": "code",
   "execution_count": null,
   "id": "2298f778",
   "metadata": {},
   "outputs": [],
   "source": [
    "debtors.info()"
   ]
  },
  {
   "cell_type": "code",
   "execution_count": null,
   "id": "ce83e9e8",
   "metadata": {},
   "outputs": [],
   "source": [
    "debtors.describe()"
   ]
  },
  {
   "cell_type": "code",
   "execution_count": null,
   "id": "8e65c991",
   "metadata": {},
   "outputs": [],
   "source": [
    "debtors.duplicated().sum()"
   ]
  },
  {
   "cell_type": "code",
   "execution_count": null,
   "id": "e7e53316",
   "metadata": {},
   "outputs": [],
   "source": [
    "#найдем пропуски\n",
    "debtors.isnull().sum()"
   ]
  },
  {
   "cell_type": "code",
   "execution_count": null,
   "id": "a4bace3d",
   "metadata": {},
   "outputs": [],
   "source": [
    "debtors[debtors['days_employed'].isin(['NaN'])]"
   ]
  },
  {
   "cell_type": "code",
   "execution_count": null,
   "id": "f50fe198",
   "metadata": {},
   "outputs": [],
   "source": [
    "# смотрим значений по детям?\n",
    "debtors.sort_values('children')['children'].value_counts().sort_index()"
   ]
  },
  {
   "cell_type": "code",
   "execution_count": null,
   "id": "5be87406",
   "metadata": {},
   "outputs": [],
   "source": [
    "debtors['children'].value_counts()"
   ]
  },
  {
   "cell_type": "code",
   "execution_count": null,
   "id": "26840ede",
   "metadata": {},
   "outputs": [],
   "source": [
    "debtors['gender'].value_counts()"
   ]
  },
  {
   "cell_type": "code",
   "execution_count": null,
   "id": "6ed4a7d9",
   "metadata": {},
   "outputs": [],
   "source": [
    "debtors['family_status'].unique()"
   ]
  },
  {
   "cell_type": "code",
   "execution_count": null,
   "id": "61290f66",
   "metadata": {},
   "outputs": [],
   "source": [
    "debtors['purpose'].unique()"
   ]
  },
  {
   "cell_type": "code",
   "execution_count": null,
   "id": "82b54f15",
   "metadata": {},
   "outputs": [],
   "source": [
    "debtors['purpose'].unique()"
   ]
  },
  {
   "cell_type": "code",
   "execution_count": null,
   "id": "1dacd496",
   "metadata": {},
   "outputs": [],
   "source": [
    "debtors['income_type'].unique()"
   ]
  },
  {
   "cell_type": "code",
   "execution_count": null,
   "id": "ee3d524f",
   "metadata": {},
   "outputs": [],
   "source": [
    "#debtors['dob_years'].unique()\n",
    "debtors['dob_years'][(debtors['dob_years'] < 19) & (debtors['dob_years'] > 0)].count()\n",
    "debtors['dob_years'][debtors['dob_years'] == 0].count()"
   ]
  },
  {
   "cell_type": "markdown",
   "id": "84634af5",
   "metadata": {},
   "source": [
    "### Выводы по данным"
   ]
  },
  {
   "cell_type": "markdown",
   "id": "31ba01ee",
   "metadata": {},
   "source": [
    "1. **children**: -1 ребенок (47 значений) - артефакт? можно удалить, заменить на 0 или зачесть в +1. Заменю на 1 - поскольку прилипший ноль в этих данных похоже норма, а количество значений не критично для анализа. 20 детей (76 значений) - многоват. конечно, но это для меня, а так - многодетная семья.\n",
    "2. **days_employed**: **ПРОПУСКИ**: трудно предположить откуда, информацию о заемщике обычно собирают тщательно, может потерялись при выгрузке. В поставленных в ТЗ задачах не фигурирует и, можно предположить, что влияние на надежность заемщика данный параметр если и оказывает, то косвенноое.Пропуски можно заменить нулями или взять среднее значение по группе занятости. Средее не нашел как  Большое количество **значений с минусом** - можем только предполагать, что минус нарисовался программно или при неправильном заполнении. Будем считат, что это артефакт и **возьмем по модулю**, сообщим о проблеме, если есть кому. есть **выбивающиеся значения**. Можно **поменять тип данных** для красоты и удобства.\n",
    "3. **dob_years**: нулевые значения в возрасте (101). несовершеннолетних нет. \n",
    "3. **education**, **family_status**: регистр скачет\n",
    "4. **total_income**: ПРОПУСКИ в тех же строках, что и стаж, но связи не вижу, заполнить можно по типу занятости. Интересно сколько пенсионеры получают?! тип данных не нравится. вообще ежемесячный доход важный параметр  - надо посмотреть повнимательней. \n",
    "5. **purpose**: цели дублируются - нужно категорировать\n",
    "\n",
    "Есть дубли - 54 шт."
   ]
  },
  {
   "cell_type": "code",
   "execution_count": null,
   "id": "f23dd005",
   "metadata": {},
   "outputs": [],
   "source": []
  }
 ],
 "metadata": {
  "kernelspec": {
   "display_name": "Python 3 (ipykernel)",
   "language": "python",
   "name": "python3"
  },
  "language_info": {
   "codemirror_mode": {
    "name": "ipython",
    "version": 3
   },
   "file_extension": ".py",
   "mimetype": "text/x-python",
   "name": "python",
   "nbconvert_exporter": "python",
   "pygments_lexer": "ipython3",
   "version": "3.9.12"
  }
 },
 "nbformat": 4,
 "nbformat_minor": 5
}
